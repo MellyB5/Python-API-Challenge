{
 "cells": [
  {
   "cell_type": "code",
   "execution_count": 66,
   "source": [
    "# Dependencies and Setup\r\n",
    "import matplotlib.pyplot as plt\r\n",
    "import pandas as pd\r\n",
    "import numpy as np\r\n",
    "import requests\r\n",
    "import gmaps\r\n",
    "import os\r\n",
    "\r\n",
    "# Import API key\r\n",
    "from config import g_key"
   ],
   "outputs": [],
   "metadata": {}
  },
  {
   "cell_type": "code",
   "execution_count": 73,
   "source": [
    "# Load the csv exported in Part I to a DataFrame\r\n",
    "vacation_df = pd.read_csv(\"city_weather_test.csv\")\r\n",
    "vacation_df.drop(columns=\"Unnamed: 0\", inplace=True)\r\n",
    "vacation_df.head()"
   ],
   "outputs": [
    {
     "output_type": "execute_result",
     "data": {
      "text/plain": [
       "         Lat         Lng       City Country  Temperature  Humidity  \\\n",
       "0  51.917854  -89.269802  geraldton      ca        18.23      77.0   \n",
       "1 -28.899229   30.521664   greytown      za        11.74      39.0   \n",
       "2  37.873070   96.718583      yumen      cn        33.84      24.0   \n",
       "3 -82.124047 -133.862385    rikitea      pf        22.30      71.0   \n",
       "4  56.284596 -146.129518     palmer      us        16.92      91.0   \n",
       "\n",
       "   Cloud cover  Wind speed                 Date  \n",
       "0         90.0        3.60  2021-07-22 08:52:30  \n",
       "1         19.0        1.81  2021-07-22 08:53:34  \n",
       "2         56.0        9.25  2021-07-22 08:53:35  \n",
       "3          0.0        6.69  2021-07-22 08:53:36  \n",
       "4          1.0        0.00  2021-07-22 08:53:37  "
      ],
      "text/html": [
       "<div>\n",
       "<style scoped>\n",
       "    .dataframe tbody tr th:only-of-type {\n",
       "        vertical-align: middle;\n",
       "    }\n",
       "\n",
       "    .dataframe tbody tr th {\n",
       "        vertical-align: top;\n",
       "    }\n",
       "\n",
       "    .dataframe thead th {\n",
       "        text-align: right;\n",
       "    }\n",
       "</style>\n",
       "<table border=\"1\" class=\"dataframe\">\n",
       "  <thead>\n",
       "    <tr style=\"text-align: right;\">\n",
       "      <th></th>\n",
       "      <th>Lat</th>\n",
       "      <th>Lng</th>\n",
       "      <th>City</th>\n",
       "      <th>Country</th>\n",
       "      <th>Temperature</th>\n",
       "      <th>Humidity</th>\n",
       "      <th>Cloud cover</th>\n",
       "      <th>Wind speed</th>\n",
       "      <th>Date</th>\n",
       "    </tr>\n",
       "  </thead>\n",
       "  <tbody>\n",
       "    <tr>\n",
       "      <th>0</th>\n",
       "      <td>51.917854</td>\n",
       "      <td>-89.269802</td>\n",
       "      <td>geraldton</td>\n",
       "      <td>ca</td>\n",
       "      <td>18.23</td>\n",
       "      <td>77.0</td>\n",
       "      <td>90.0</td>\n",
       "      <td>3.60</td>\n",
       "      <td>2021-07-22 08:52:30</td>\n",
       "    </tr>\n",
       "    <tr>\n",
       "      <th>1</th>\n",
       "      <td>-28.899229</td>\n",
       "      <td>30.521664</td>\n",
       "      <td>greytown</td>\n",
       "      <td>za</td>\n",
       "      <td>11.74</td>\n",
       "      <td>39.0</td>\n",
       "      <td>19.0</td>\n",
       "      <td>1.81</td>\n",
       "      <td>2021-07-22 08:53:34</td>\n",
       "    </tr>\n",
       "    <tr>\n",
       "      <th>2</th>\n",
       "      <td>37.873070</td>\n",
       "      <td>96.718583</td>\n",
       "      <td>yumen</td>\n",
       "      <td>cn</td>\n",
       "      <td>33.84</td>\n",
       "      <td>24.0</td>\n",
       "      <td>56.0</td>\n",
       "      <td>9.25</td>\n",
       "      <td>2021-07-22 08:53:35</td>\n",
       "    </tr>\n",
       "    <tr>\n",
       "      <th>3</th>\n",
       "      <td>-82.124047</td>\n",
       "      <td>-133.862385</td>\n",
       "      <td>rikitea</td>\n",
       "      <td>pf</td>\n",
       "      <td>22.30</td>\n",
       "      <td>71.0</td>\n",
       "      <td>0.0</td>\n",
       "      <td>6.69</td>\n",
       "      <td>2021-07-22 08:53:36</td>\n",
       "    </tr>\n",
       "    <tr>\n",
       "      <th>4</th>\n",
       "      <td>56.284596</td>\n",
       "      <td>-146.129518</td>\n",
       "      <td>palmer</td>\n",
       "      <td>us</td>\n",
       "      <td>16.92</td>\n",
       "      <td>91.0</td>\n",
       "      <td>1.0</td>\n",
       "      <td>0.00</td>\n",
       "      <td>2021-07-22 08:53:37</td>\n",
       "    </tr>\n",
       "  </tbody>\n",
       "</table>\n",
       "</div>"
      ]
     },
     "metadata": {},
     "execution_count": 73
    }
   ],
   "metadata": {}
  },
  {
   "cell_type": "markdown",
   "source": [
    " Humidity Heatmap"
   ],
   "metadata": {}
  },
  {
   "cell_type": "code",
   "execution_count": 77,
   "source": [
    "# Configure gmaps\r\n",
    "gmaps.configure(api_key=g_key)\r\n",
    "# Lat and Lng as locations and Humidity as the weight.Add Heatmap layer to map\r\n",
    "locations = vacation_df[[\"Lat\", \"Lng\"]]\r\n",
    "humidity = vacation_df[\"Humidity\"]\r\n",
    "map_1 = gmaps.figure(zoom_level=2, center=[20,50])\r\n",
    "heatmap_1 = gmaps.heatmap_layer(locations, weights=humidity, max_intensity=350, point_radius=6, dissipating=False)\r\n",
    "map_1.add_layer(heatmap_1)\r\n",
    "map_1"
   ],
   "outputs": [
    {
     "output_type": "display_data",
     "data": {
      "text/plain": [
       "Figure(layout=FigureLayout(height='420px'))"
      ],
      "application/vnd.jupyter.widget-view+json": {
       "version_major": 2,
       "version_minor": 0,
       "model_id": "431346c7e849417b8b1fda7e207f0af1"
      }
     },
     "metadata": {}
    }
   ],
   "metadata": {}
  },
  {
   "cell_type": "code",
   "execution_count": 79,
   "source": [
    "#  Create new DataFrame fitting weather criteria\r\n",
    "ideal_vacation = vacation_df[(vacation_df[\"Temperature\"]>=25) & (vacation_df[\"Temperature\"]<=40)]\r\n",
    "ideal_vacation = ideal_vacation[ideal_vacation[\"Wind speed\"]<10]\r\n",
    "ideal_vacation = ideal_vacation[ideal_vacation[\"Cloud cover\"]<20]\r\n",
    "ideal_vacation.head()"
   ],
   "outputs": [
    {
     "output_type": "execute_result",
     "data": {
      "text/plain": [
       "          Lat         Lng      City Country  Temperature  Humidity  \\\n",
       "8   25.424390   23.809887      jalu      ly        31.28      42.0   \n",
       "11  31.309230  140.513360   shimoda      jp        28.20      78.0   \n",
       "20  -0.302607   30.269913  bushenyi      ug        26.68      28.0   \n",
       "23  42.786456   90.235451    urumqi      cn        30.53      25.0   \n",
       "51  32.018131   96.622965      tezu      in        36.41      48.0   \n",
       "\n",
       "    Cloud cover  Wind speed                 Date  \n",
       "8           9.0        4.00  2021-07-22 08:53:40  \n",
       "11          1.0        2.40  2021-07-22 08:53:45  \n",
       "20          4.0        4.09  2021-07-22 08:52:23  \n",
       "23          0.0        6.00  2021-07-22 08:53:56  \n",
       "51         18.0        0.70  2021-07-22 08:54:15  "
      ],
      "text/html": [
       "<div>\n",
       "<style scoped>\n",
       "    .dataframe tbody tr th:only-of-type {\n",
       "        vertical-align: middle;\n",
       "    }\n",
       "\n",
       "    .dataframe tbody tr th {\n",
       "        vertical-align: top;\n",
       "    }\n",
       "\n",
       "    .dataframe thead th {\n",
       "        text-align: right;\n",
       "    }\n",
       "</style>\n",
       "<table border=\"1\" class=\"dataframe\">\n",
       "  <thead>\n",
       "    <tr style=\"text-align: right;\">\n",
       "      <th></th>\n",
       "      <th>Lat</th>\n",
       "      <th>Lng</th>\n",
       "      <th>City</th>\n",
       "      <th>Country</th>\n",
       "      <th>Temperature</th>\n",
       "      <th>Humidity</th>\n",
       "      <th>Cloud cover</th>\n",
       "      <th>Wind speed</th>\n",
       "      <th>Date</th>\n",
       "    </tr>\n",
       "  </thead>\n",
       "  <tbody>\n",
       "    <tr>\n",
       "      <th>8</th>\n",
       "      <td>25.424390</td>\n",
       "      <td>23.809887</td>\n",
       "      <td>jalu</td>\n",
       "      <td>ly</td>\n",
       "      <td>31.28</td>\n",
       "      <td>42.0</td>\n",
       "      <td>9.0</td>\n",
       "      <td>4.00</td>\n",
       "      <td>2021-07-22 08:53:40</td>\n",
       "    </tr>\n",
       "    <tr>\n",
       "      <th>11</th>\n",
       "      <td>31.309230</td>\n",
       "      <td>140.513360</td>\n",
       "      <td>shimoda</td>\n",
       "      <td>jp</td>\n",
       "      <td>28.20</td>\n",
       "      <td>78.0</td>\n",
       "      <td>1.0</td>\n",
       "      <td>2.40</td>\n",
       "      <td>2021-07-22 08:53:45</td>\n",
       "    </tr>\n",
       "    <tr>\n",
       "      <th>20</th>\n",
       "      <td>-0.302607</td>\n",
       "      <td>30.269913</td>\n",
       "      <td>bushenyi</td>\n",
       "      <td>ug</td>\n",
       "      <td>26.68</td>\n",
       "      <td>28.0</td>\n",
       "      <td>4.0</td>\n",
       "      <td>4.09</td>\n",
       "      <td>2021-07-22 08:52:23</td>\n",
       "    </tr>\n",
       "    <tr>\n",
       "      <th>23</th>\n",
       "      <td>42.786456</td>\n",
       "      <td>90.235451</td>\n",
       "      <td>urumqi</td>\n",
       "      <td>cn</td>\n",
       "      <td>30.53</td>\n",
       "      <td>25.0</td>\n",
       "      <td>0.0</td>\n",
       "      <td>6.00</td>\n",
       "      <td>2021-07-22 08:53:56</td>\n",
       "    </tr>\n",
       "    <tr>\n",
       "      <th>51</th>\n",
       "      <td>32.018131</td>\n",
       "      <td>96.622965</td>\n",
       "      <td>tezu</td>\n",
       "      <td>in</td>\n",
       "      <td>36.41</td>\n",
       "      <td>48.0</td>\n",
       "      <td>18.0</td>\n",
       "      <td>0.70</td>\n",
       "      <td>2021-07-22 08:54:15</td>\n",
       "    </tr>\n",
       "  </tbody>\n",
       "</table>\n",
       "</div>"
      ]
     },
     "metadata": {},
     "execution_count": 79
    }
   ],
   "metadata": {}
  },
  {
   "cell_type": "code",
   "execution_count": null,
   "source": [
    "# Hit the Google Places API for each city's coordinates.\r\n"
   ],
   "outputs": [],
   "metadata": {}
  },
  {
   "cell_type": "code",
   "execution_count": 20,
   "source": [
    "# Hotel Map\r\n",
    "# Store into variable named hotel_df.Add a \"Hotel Name\" column to the DataFrame.\r\n",
    "# Set parameters to search for hotels with 5000 meters.\r\n",
    "# Hit the Google Places API for each city's coordinates.\r\n",
    "# Store the first Hotel result into the DataFrame.\r\n",
    "# Plot markers on top of the heatmap.\r\n",
    "\r\n",
    "url = \"https://maps.googleapis.com/maps/api/place/nearbysearch/json\"\r\n",
    "\r\n",
    "param = {\r\n",
    "    \"key\":g_key,\r\n",
    "    \"radius\":5000,\r\n",
    "    \"type\":\"lodging\",\r\n",
    "    \"location\": \"-31.9523, 115.8613\"\r\n",
    "}\r\n",
    "# param[\"location\"] = f\"{lat},{lng}\"\r\n",
    "ret = requests.get(url, params=param).json()\r\n"
   ],
   "outputs": [],
   "metadata": {}
  },
  {
   "cell_type": "code",
   "execution_count": 21,
   "source": [
    "ret[\"results\"][0]"
   ],
   "outputs": [
    {
     "output_type": "execute_result",
     "data": {
      "text/plain": [
       "{'business_status': 'OPERATIONAL',\n",
       " 'geometry': {'location': {'lat': -31.95436680000001, 'lng': 115.8529193},\n",
       "  'viewport': {'northeast': {'lat': -31.9529586697085,\n",
       "    'lng': 115.8541703802915},\n",
       "   'southwest': {'lat': -31.9556566302915, 'lng': 115.8514724197085}}},\n",
       " 'icon': 'https://maps.gstatic.com/mapfiles/place_api/icons/v1/png_71/lodging-71.png',\n",
       " 'name': 'Parmelia Hilton Perth',\n",
       " 'photos': [{'height': 3000,\n",
       "   'html_attributions': ['<a href=\"https://maps.google.com/maps/contrib/105287034285661705751\">Parmelia Hilton Perth</a>'],\n",
       "   'photo_reference': 'Aap_uEDgiXPLh0tocbXl3MXYBGMlpm1UtMPyiS99k0z87WlKNprl71Wt8qG6YrU-rDHy3de3EYDWl038eWw36CTIF-wQX9gwq1cuNundYXX8tw2nyywxoGn4xjxO4XiDL6qtxLvEkyLAEVQozmH3XeTeQWFzBAp-3kRDw3RwuahJICpbvd6f',\n",
       "   'width': 4507}],\n",
       " 'place_id': 'ChIJQdM1JtW6MioRxAJto5QX2Qw',\n",
       " 'plus_code': {'compound_code': '2VW3+75 Perth WA, Australia',\n",
       "  'global_code': '4PWQ2VW3+75'},\n",
       " 'rating': 4.2,\n",
       " 'reference': 'ChIJQdM1JtW6MioRxAJto5QX2Qw',\n",
       " 'scope': 'GOOGLE',\n",
       " 'types': ['lodging', 'point_of_interest', 'establishment'],\n",
       " 'user_ratings_total': 1436,\n",
       " 'vicinity': '14 Mill Street, Perth'}"
      ]
     },
     "metadata": {},
     "execution_count": 21
    }
   ],
   "metadata": {}
  },
  {
   "cell_type": "code",
   "execution_count": null,
   "source": [
    "# NOTE: Do not change any of the code in this cell\r\n",
    "\r\n",
    "# Using the template add the hotel marks to the heatmap\r\n",
    "info_box_template = \"\"\"\r\n",
    "<dl>\r\n",
    "<dt>Name</dt><dd>{Hotel Name}</dd>\r\n",
    "<dt>City</dt><dd>{City}</dd>\r\n",
    "<dt>Country</dt><dd>{Country}</dd>\r\n",
    "</dl>\r\n",
    "\"\"\"\r\n",
    "# Store the DataFrame Row\r\n",
    "# NOTE: be sure to update with your DataFrame name\r\n",
    "hotel_info = [info_box_template.format(**row) for index, row in hotel_df.iterrows()]\r\n",
    "locations = hotel_df[[\"Lat\", \"Lng\"]]"
   ],
   "outputs": [],
   "metadata": {}
  },
  {
   "cell_type": "code",
   "execution_count": null,
   "source": [
    "# Add marker layer ontop of heat map\r\n",
    "\r\n",
    "\r\n",
    "# Display figure"
   ],
   "outputs": [],
   "metadata": {}
  },
  {
   "cell_type": "code",
   "execution_count": null,
   "source": [],
   "outputs": [],
   "metadata": {}
  },
  {
   "cell_type": "code",
   "execution_count": null,
   "source": [],
   "outputs": [],
   "metadata": {}
  },
  {
   "cell_type": "code",
   "execution_count": null,
   "source": [],
   "outputs": [],
   "metadata": {}
  }
 ],
 "metadata": {
  "orig_nbformat": 4,
  "language_info": {
   "name": "python"
  }
 },
 "nbformat": 4,
 "nbformat_minor": 2
}