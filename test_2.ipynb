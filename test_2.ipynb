{
 "cells": [
  {
   "cell_type": "code",
   "execution_count": null,
   "source": [
    "# Import dependancies\r\n",
    "import json\r\n",
    "import random\r\n",
    "from citipy import citipy\r\n",
    "import pandas as pd\r\n",
    "import requests\r\n",
    "import matplotlib.pyplot as plt\r\n",
    "import numpy as np\r\n",
    "from datetime import datetime\r\n",
    "\r\n",
    "# Import API key\r\n",
    "from config import weather_api_key"
   ],
   "outputs": [],
   "metadata": {}
  },
  {
   "cell_type": "code",
   "execution_count": null,
   "source": [
    "def get_data(city_name, base_url, params):\r\n",
    "    ret = {}\r\n",
    "    params[\"q\"] = city_name\r\n",
    "    response = requests.get(base_url, params=params).json()\r\n",
    "    try:\r\n",
    "        ret[\"Temperature\"] = response[\"main\"][\"temp_max\"]\r\n",
    "        ret[\"Humidity\"] = response[\"main\"][\"humidity\"]\r\n",
    "        ret[\"Cloud cover\"] = response[\"clouds\"][\"all\"]\r\n",
    "        ret[\"Wind speed\"] = response[\"wind\"][\"speed\"]\r\n",
    "        ret[\"Date\"] = datetime.utcfromtimestamp(response[\"dt\"]).strftime(\"%Y-%m-%d %H:%M:%S\")\r\n",
    "    except(KeyError, IndexError):\r\n",
    "        return False\r\n",
    "        \r\n",
    "    return ret"
   ],
   "outputs": [],
   "metadata": {}
  },
  {
   "cell_type": "code",
   "execution_count": null,
   "source": [
    "for index, row in no_dup_cities.iterrows():\r\n",
    "    city_name = row[\"City\"]\r\n",
    "    ret = get_data(\"kapaa,us\", base_url, params)\r\n",
    "    if ret:\r\n",
    "        no_dup_cities.loc[index, \"Temperature\"] = ret[\"Temperature\"]\r\n",
    "        no_dup_cities.loc[index, \"Humidity\"] = ret[\"Humidity\"]\r\n",
    "        no_dup_cities.loc[index, \"Cloud cover\"] = ret[\"Cloud cover\"]\r\n",
    "        no_dup_cities.loc[index, \"Wind speed\"] = ret[\"Wind speed\"]\r\n",
    "        no_dup_cities.loc[index, \"Date\"] = ret[\"Date\"]\r\n",
    "    else:\r\n",
    "        print(f\"No data for {city_name}\")"
   ],
   "outputs": [],
   "metadata": {}
  },
  {
   "cell_type": "code",
   "execution_count": null,
   "source": [
    "for index, row in no_dup_cities.iterrows():\r\n",
    "    city_name = row[\"City\"]\r\n",
    "    ret = get_data(\"kapaa,us\", base_url, params)\r\n",
    "    if ret:\r\n",
    "        no_dup_cities.loc[index, \"Temperature\"] = ret[\"Temperature\"]\r\n",
    "        no_dup_cities.loc[index, \"Humidity\"] = ret[\"Humidity\"]\r\n",
    "        no_dup_cities.loc[index, \"Cloud cover\"] = ret[\"Cloud cover\"]\r\n",
    "        no_dup_cities.loc[index, \"Wind speed\"] = ret[\"Wind speed\"]\r\n",
    "        no_dup_cities.loc[index, \"Date\"] = ret[\"Date\"]\r\n",
    "    else:\r\n",
    "        print(f\"No data for {city_name}\")"
   ],
   "outputs": [],
   "metadata": {}
  }
 ],
 "metadata": {
  "orig_nbformat": 4,
  "language_info": {
   "name": "python"
  }
 },
 "nbformat": 4,
 "nbformat_minor": 2
}